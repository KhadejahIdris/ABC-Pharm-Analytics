{
 "cells": [
  {
   "cell_type": "code",
   "execution_count": null,
   "id": "dace6f3e",
   "metadata": {},
   "outputs": [],
   "source": [
    "# Import required libraries\n",
    "import pandas as pd\n",
    "import numpy as np\n",
    "import sqlite3 as sql\n",
    "import matplotlib.pyplot as plt\n",
    "import plotly.express as px\n",
    "import seaborn as sns"
   ]
  },
  {
   "cell_type": "code",
   "execution_count": null,
   "id": "c395a194",
   "metadata": {},
   "outputs": [],
   "source": [
    "# Establish connection to the database\n",
    "db_path = r\"C:\\Users\\user\\Desktop\\3Signet Project2 Task\\ABCPharmData.db\"\n",
    "conn = sql.connect(db_path)"
   ]
  },
  {
   "cell_type": "code",
   "execution_count": null,
   "id": "d9feae11",
   "metadata": {},
   "outputs": [],
   "source": [
    "# Load data into a DataFrame\n",
    "query = \"SELECT * FROM ABCData\"\n",
    "df = pd.read_sql(query, conn)\n",
    "df.head()"
   ]
  },
  {
   "cell_type": "markdown",
   "id": "8be0cd2b",
   "metadata": {},
   "source": [
    "### Data Preprocessing and Validation"
   ]
  },
  {
   "cell_type": "code",
   "execution_count": null,
   "id": "c2f7c3f5",
   "metadata": {},
   "outputs": [],
   "source": [
    "df.info()"
   ]
  },
  {
   "cell_type": "code",
   "execution_count": null,
   "id": "2eacc6e9",
   "metadata": {},
   "outputs": [],
   "source": [
    "#Converting Quantity and Sales column to Integer type\n",
    "\n",
    "df['Quantity'] = df['Quantity'].astype(int)\n",
    "df['Sales'] = df['Sales'].astype(int)\n",
    "print(df.dtypes)"
   ]
  },
  {
   "cell_type": "code",
   "execution_count": null,
   "id": "0b9c96bb",
   "metadata": {},
   "outputs": [],
   "source": [
    "# Converting the 'Month' column to numeric format\n",
    "df['Month'] = pd.to_datetime(df['Month'], format='%B').dt.month"
   ]
  },
  {
   "cell_type": "code",
   "execution_count": null,
   "id": "22074449",
   "metadata": {},
   "outputs": [],
   "source": [
    "print(sorted(df['Month'].unique()))"
   ]
  },
  {
   "cell_type": "code",
   "execution_count": null,
   "id": "ecaa76ea",
   "metadata": {},
   "outputs": [],
   "source": [
    "#Creating an object cursor to execute sql queries\n",
    "cursor = conn.cursor()"
   ]
  },
  {
   "cell_type": "code",
   "execution_count": null,
   "id": "ba6fefac",
   "metadata": {},
   "outputs": [],
   "source": [
    "#CHECKING FOR DUPLICATES IN INDEX\n",
    "rowz= cursor.execute(\"SELECT* FROM ABCData GROUP BY ID HAVING COUNT(*) > 1\").fetchall()\n",
    "print(rowz)"
   ]
  },
  {
   "cell_type": "code",
   "execution_count": null,
   "id": "16a95ccb",
   "metadata": {},
   "outputs": [],
   "source": [
    "#Now we want to confirm there are no duplicate rows in data\\n\",\n",
    "df_removed = df.copy()"
   ]
  },
  {
   "cell_type": "code",
   "execution_count": null,
   "id": "0ecab64f",
   "metadata": {},
   "outputs": [],
   "source": [
    " df_removed.drop(columns=[\"ID\"])"
   ]
  },
  {
   "cell_type": "code",
   "execution_count": null,
   "id": "73bb7aeb",
   "metadata": {},
   "outputs": [],
   "source": [
    "# Check for duplicate rows\n",
    "duplicates = df_removed.duplicated()\n",
    "\n",
    "# Print the number of duplicate rows\n",
    "print(f\"Number of duplicate rows: {duplicates.sum()}\")\n",
    "\n",
    "# If there are duplicates, show them\n",
    "if duplicates.any():\n",
    "    print(\"Duplicate rows:\")\n",
    "    print(df_removed[duplicates])\n",
    "else:\n",
    "    print(\"No duplicate rows found.\")\n"
   ]
  },
  {
   "cell_type": "code",
   "execution_count": null,
   "id": "5b2782e2",
   "metadata": {},
   "outputs": [],
   "source": [
    "%load_ext nb_black\n",
    "# Checking for negative sales amounts\\n\",\n",
    "invalid_sales = df[df[\"Sales\"] < 0]\n",
    "if not invalid_sales.empty:\n",
    "    raise ValueError(\"Invalid sales amounts found.\")"
   ]
  },
  {
   "cell_type": "code",
   "execution_count": null,
   "id": "2aafdee1",
   "metadata": {},
   "outputs": [],
   "source": [
    "# Checking how many rows have negative values in the Quantity or Sales column\\n\",\n",
    "rowz = cursor.execute(\n",
    "    \"SELECT COUNT(*) AS NegativeCount FROM ABCData WHERE Quantity < 0 OR Sales < 0\"\n",
    ").fetchall()\n",
    "print(rowz)"
   ]
  },
  {
   "cell_type": "code",
   "execution_count": null,
   "id": "3d613236",
   "metadata": {},
   "outputs": [],
   "source": [
    "# Replacing negative values with their absolute values\n",
    "df[\"Quantity\"] = df[\"Quantity\"].abs()\n",
    "df[\"Sales\"] = df[\"Sales\"].abs()\n",
    "print(df[df[\"Quantity\"] < 0])"
   ]
  },
  {
   "cell_type": "code",
   "execution_count": null,
   "id": "1f86dfe1",
   "metadata": {},
   "outputs": [],
   "source": [
    "rowz = cursor.execute(\n",
    "    \"SELECT COUNT(*) AS NegativeCount FROM ABCData WHERE Quantity = 0 OR Sales = 0\"\n",
    ").fetchall()\n",
    "print(rowz)"
   ]
  },
  {
   "cell_type": "code",
   "execution_count": null,
   "id": "680efc43",
   "metadata": {},
   "outputs": [],
   "source": [
    "# Remove rows where 'Quantity' or 'Sales' have zero values\n",
    "df = df[(df['Quantity'] != 0) & (df['Sales'] != 0)]\n",
    "\n",
    "# Verify the changes\n",
    "print(f\"Number of rows after removal: {len(df)}\")\n"
   ]
  },
  {
   "cell_type": "code",
   "execution_count": null,
   "id": "c346dd26",
   "metadata": {},
   "outputs": [],
   "source": [
    "df.head()"
   ]
  },
  {
   "cell_type": "markdown",
   "id": "f300c6f2",
   "metadata": {},
   "source": [
    "# Performing Geospatial and Channel Analysis"
   ]
  },
  {
   "cell_type": "code",
   "execution_count": null,
   "id": "4ed19b26",
   "metadata": {},
   "outputs": [],
   "source": [
    "import geopandas as gpd\n",
    "from shapely.geometry import Point"
   ]
  },
  {
   "cell_type": "code",
   "execution_count": null,
   "id": "ec21d4eb",
   "metadata": {},
   "outputs": [],
   "source": [
    "# Creating a geopandas Dataframe\n",
    "geometry = [Point(xy) for xy in zip(df[\"Longitude\"], df[\"Latitude\"])]\n",
    "gdf = gpd.GeoDataFrame(df, geometry=geometry)"
   ]
  },
  {
   "cell_type": "code",
   "execution_count": null,
   "id": "98bae896",
   "metadata": {},
   "outputs": [],
   "source": [
    "gdf.head(3)"
   ]
  },
  {
   "cell_type": "code",
   "execution_count": null,
   "id": "cdb265a0",
   "metadata": {},
   "outputs": [],
   "source": [
    "# Visualizing a plot of the geopandas dataframe\n",
    "fig, ax = plt.subplots(1, figsize=(6, 12))\n",
    "gdf.plot(ax=ax, column=\"Country\", legend=True, legend_kwds={\"loc\": \"center left\"})\n",
    "leg = ax.get_legend()\n",
    "leg.set_bbox_to_anchor((1.04, 0.5))"
   ]
  },
  {
   "cell_type": "markdown",
   "id": "9d2e01a1",
   "metadata": {},
   "source": [
    "* From this plot, we can see more concentration of sales from Germany \n"
   ]
  },
  {
   "cell_type": "code",
   "execution_count": null,
   "id": "29ae7d9c",
   "metadata": {},
   "outputs": [],
   "source": [
    "print(df[df[\"Sales\"] < 0])"
   ]
  },
  {
   "cell_type": "code",
   "execution_count": null,
   "id": "4c7b148e",
   "metadata": {},
   "outputs": [],
   "source": [
    "# Calculate IQR bounds\n",
    "Q1 = df[\"Quantity\"].quantile(0.25)  # First quartile (25th percentile)\n",
    "Q3 = df[\"Quantity\"].quantile(0.75)  # Third quartile (75th percentile)\n",
    "IQR = Q3 - Q1  # Interquartile range\n",
    "\n",
    "# Define lower and upper bounds\n",
    "lower_bound = Q1 - 1.5 * IQR\n",
    "upper_bound = Q3 + 1.5 * IQR\n",
    "\n",
    "# Filtering out outliers\n",
    "df_out = df[(df[\"Quantity\"] >= lower_bound) & (df[\"Quantity\"] <= upper_bound)]"
   ]
  },
  {
   "cell_type": "code",
   "execution_count": null,
   "id": "c7f59533",
   "metadata": {},
   "outputs": [],
   "source": [
    "# Creating a geopandas Dataframe after removing outliers\n",
    "geometry = [Point(xy) for xy in zip(df_out[\"Longitude\"], df_out[\"Latitude\"])]\n",
    "gdf_out = gpd.GeoDataFrame(df_out, geometry=geometry)"
   ]
  },
  {
   "cell_type": "code",
   "execution_count": null,
   "id": "462830e9",
   "metadata": {},
   "outputs": [],
   "source": [
    "# Scatter plot of sales without outliers\n",
    "fig = px.scatter(\n",
    "    gdf_out,\n",
    "    x=\"Longitude\",\n",
    "    y=\"Latitude\",\n",
    "    color=\"Sales\",\n",
    "    hover_name=\"City\",\n",
    "    title=\"Scatter Plot of Locations by Latitude and Longitude\",\n",
    ")\n",
    "\n",
    "# Adjust plot size\n",
    "fig.update_layout(\n",
    "    width=800, height=600  # Set the width of the plot  # Set the height of the plot\n",
    ")\n",
    "fig.show()\n",
    "fig.write_html(\"Sales Scatterplot city hover.html\")\n"
   ]
  },
  {
   "cell_type": "code",
   "execution_count": null,
   "id": "fef642ca",
   "metadata": {},
   "outputs": [],
   "source": [
    "# Scatter plot with distinct colors for countries\n",
    "fig = px.scatter(\n",
    "    gdf_out,\n",
    "    x=\"Longitude\",\n",
    "    y=\"Latitude\",\n",
    "    color=\"Country\",  # Different colors for Germany and Poland\n",
    "    size=\"Sales\",  # Adjust point size based on Sales\n",
    "    hover_name=\"City\",\n",
    "    title=\"Scatter Plot of Locations by Latitude and Longitude (Colored by Country)\",\n",
    "    color_discrete_map={\n",
    "        \"Germany\": \"red\",  # Set Germany to red\n",
    "        \"Poland\": \"green\",  # Set Poland to green\n",
    "    },\n",
    ")\n",
    "\n",
    "# Adjust plot size\n",
    "fig.update_layout(\n",
    "    width=800, height=600  # Set the width of the plot  # Set the height of the plot\n",
    ")\n",
    "\n",
    "fig.show()\n",
    "fig.write_html(\"Sales point.html\")\n"
   ]
  },
  {
   "cell_type": "code",
   "execution_count": null,
   "id": "013153bd",
   "metadata": {},
   "outputs": [],
   "source": [
    "# Scatter plot\n",
    "fig = px.scatter(\n",
    "    gdf_out,\n",
    "    x=\"Longitude\",\n",
    "    y=\"Latitude\",\n",
    "    color=\"Sales\",\n",
    "    hover_name=\"Distributor\",\n",
    "    title=\"Scatter Plot of Locations by Latitude and Longitude\",\n",
    ")\n",
    "\n",
    "# Adjust plot size\n",
    "fig.update_layout(\n",
    "    width=800, height=600 \n",
    ")\n",
    "fig.show()\n",
    "fig.write_html(\"Sales scatter distributor hover .html\")\n"
   ]
  },
  {
   "cell_type": "markdown",
   "id": "64838e38",
   "metadata": {},
   "source": [
    "### Channel Analysis "
   ]
  },
  {
   "cell_type": "code",
   "execution_count": null,
   "id": "b61280ff",
   "metadata": {},
   "outputs": [],
   "source": [
    "# Let us analyze trend in sales for specific channels\n",
    "sales_trends = gdf_out.groupby(['Channel', 'Year', 'Month'])['Sales'].sum().reset_index()\n",
    "\n",
    "fig = px.line(\n",
    "    sales_trends,\n",
    "    x=\"Year\",\n",
    "    y=\"Sales\",\n",
    "    color=\"Channel\",\n",
    "    title=\"Monthly Sales Trends by Country\"\n",
    ")\n",
    "fig.show()\n",
    "\n"
   ]
  },
  {
   "cell_type": "code",
   "execution_count": null,
   "id": "9e4199f4",
   "metadata": {},
   "outputs": [],
   "source": [
    "sales_seasonal = gdf_out.groupby(['Channel', 'Month'])['Sales'].mean().reset_index()\n",
    "\n",
    "fig = px.line(\n",
    "    sales_seasonal,\n",
    "    x=\"Month\",\n",
    "    y=\"Sales\",\n",
    "    color=\"Channel\",\n",
    "    title=\"Average Monthly Sales Trends by Channel (Seasonality)\"\n",
    ")\n",
    "fig.update_layout(\n",
    "    xaxis=dict(tickmode=\"linear\", tick0=1, dtick=1),  # Ensures all months appear\n",
    "    xaxis_title=\"Month\"\n",
    ")\n",
    "fig.show()\n",
    "fig.write_html(\"Seasonality by channel.html\")\n"
   ]
  },
  {
   "cell_type": "code",
   "execution_count": null,
   "id": "1e912610",
   "metadata": {},
   "outputs": [],
   "source": [
    "#Let us aggregate sales data by channel and subchannel\n",
    "# Aggregate sales data\n",
    "sales_by_channel = df.groupby(['Channel', 'Subchannel'])['Sales'].sum().reset_index()\n",
    "sales_by_channel.sort_values(by='Sales', ascending=False, inplace=True)  \n"
   ]
  },
  {
   "cell_type": "code",
   "execution_count": null,
   "id": "72177702",
   "metadata": {},
   "outputs": [],
   "source": [
    "#Plotting Barchart to show sales for each channel and subchannel\n",
    "fig = px.bar(\n",
    "    sales_by_channel,\n",
    "    x='Channel',\n",
    "    y='Sales',\n",
    "    color='Subchannel',\n",
    "    barmode='group',\n",
    "    title=\"Total Sales by Channels and Subchannels\",\n",
    "    labels={'Sales': 'Total Sales'},\n",
    "    text='Sales'\n",
    ")\n",
    "fig.update_traces(texttemplate='%{text:.2s}', textposition='outside')\n",
    "fig.update_layout(\n",
    "    xaxis_title=\"Channel\",\n",
    "    yaxis_title=\"Total Sales\",\n",
    "    legend_title=\"Subchannel\",\n",
    "    width=900,\n",
    "    height=600\n",
    ")\n",
    "fig.show()\n",
    "fig.write_html(\"Sales by subchannel barchart.html\")\n"
   ]
  },
  {
   "cell_type": "code",
   "execution_count": null,
   "id": "ff543629",
   "metadata": {},
   "outputs": [],
   "source": [
    "#COMPARING SALES COUNT BY SUBCHANNEL FOR EACH COUNTRY\n",
    "# Group data by Country and Subchannel to count sales entries\n",
    "subchannel_sales = df.groupby(['Country', 'Subchannel']).size().reset_index(name='SalesEntries')\n",
    "\n",
    "# Plot a grouped bar chart\n",
    "fig = px.bar(\n",
    "    subchannel_sales,\n",
    "    x=\"Subchannel\",  # Subchannel on x-axis\n",
    "    y=\"SalesEntries\",  # Number of sales entries on y-axis\n",
    "    color=\"Country\",  # Different colors for countries\n",
    "    barmode=\"group\",  # Grouped bars for comparison\n",
    "    title=\"Sales Entries by Subchannel for Each Country\",\n",
    "    text_auto=True  # Display numbers on bars\n",
    ")\n",
    "\n",
    "# Adjust layout\n",
    "fig.update_layout(\n",
    "    xaxis_title=\"Subchannel\",\n",
    "    yaxis_title=\"Number of Sales Entries\",\n",
    "    legend_title=\"Country\",\n",
    "    width=900,\n",
    "    height=600\n",
    ")\n",
    "\n",
    "fig.show()\n",
    "fig.write_html(\"Salescount Subchannel groupbarchart.html\")\n"
   ]
  },
  {
   "cell_type": "markdown",
   "id": "a62d8c91",
   "metadata": {},
   "source": [
    "* We can see that in Germany, the Government subchannel with 56,917 entries is doing better than the Private subchannel with 45,959 entries.\n",
    "* While for Poland, the Private subchannel is doing better with 12,536 entries\n",
    "* For Germany, the Retail subchannel of the Pharmacy channel has the overall highest entries while for Poland, the Private subchannel of the Hospital channel has the highest entry\n",
    "* \n"
   ]
  },
  {
   "cell_type": "code",
   "execution_count": null,
   "id": "a0efe41a",
   "metadata": {},
   "outputs": [],
   "source": [
    "#COMPARING TOTAL SALES BY SUBCHANNEL FOR EACH COUNTRY\n",
    "# Group data by Country and Subchannel to calculate total sales\n",
    "Channel_sales_total = df.groupby(['Country', 'Channel'])['Sales'].sum().reset_index()\n",
    "\n",
    "# Plot a grouped bar chart\n",
    "fig = px.bar(\n",
    "    Channel_sales_total,\n",
    "    x=\"Channel\",  # Subchannel on x-axis\n",
    "    y=\"Sales\",  # Total sales on y-axis\n",
    "    color=\"Country\",  # Different colors for countries\n",
    "    barmode=\"group\",  # Grouped bars for comparison\n",
    "    title=\"Total Sales by Channel for Each Country\",\n",
    "    text_auto=True  # Display numbers on bars\n",
    ")\n",
    "\n",
    "# Adjust layout\n",
    "fig.update_layout(\n",
    "    xaxis_title=\"Channel\",\n",
    "    yaxis_title=\"Total Sales\",\n",
    "    legend_title=\"Country\",\n",
    "    width=900,\n",
    "    height=600\n",
    ")\n",
    "\n",
    "fig.show()\n",
    "fig.write_html(\"Sales channel groupbarchart.html\")\n"
   ]
  },
  {
   "cell_type": "code",
   "execution_count": null,
   "id": "e170c9ba",
   "metadata": {},
   "outputs": [],
   "source": []
  }
 ],
 "metadata": {
  "kernelspec": {
   "display_name": "Python 3 (ipykernel)",
   "language": "python",
   "name": "python3"
  },
  "language_info": {
   "codemirror_mode": {
    "name": "ipython",
    "version": 3
   },
   "file_extension": ".py",
   "mimetype": "text/x-python",
   "name": "python",
   "nbconvert_exporter": "python",
   "pygments_lexer": "ipython3",
   "version": "3.8.8"
  }
 },
 "nbformat": 4,
 "nbformat_minor": 5
}
