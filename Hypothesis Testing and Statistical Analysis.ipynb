{
 "cells": [
  {
   "cell_type": "code",
   "execution_count": null,
   "id": "dace6f3e",
   "metadata": {},
   "outputs": [],
   "source": [
    "# Import required libraries\n",
    "import pandas as pd\n",
    "import numpy as np\n",
    "import sqlite3 as sql\n",
    "import matplotlib.pyplot as plt\n",
    "import plotly.express as px\n",
    "import seaborn as sns"
   ]
  },
  {
   "cell_type": "code",
   "execution_count": null,
   "id": "c395a194",
   "metadata": {},
   "outputs": [],
   "source": [
    "# Establish connection to the database\n",
    "db_path = r\"C:\\Users\\user\\Desktop\\3Signet Project2 Task\\ABCPharmData.db\"\n",
    "conn = sql.connect(db_path)"
   ]
  },
  {
   "cell_type": "code",
   "execution_count": null,
   "id": "d9feae11",
   "metadata": {},
   "outputs": [],
   "source": [
    "# Load data into a DataFrame\n",
    "query = \"SELECT * FROM ABCData\"\n",
    "df = pd.read_sql(query, conn)\n",
    "df.head()"
   ]
  },
  {
   "cell_type": "markdown",
   "id": "8be0cd2b",
   "metadata": {},
   "source": [
    "### Data Preprocessing and Validation"
   ]
  },
  {
   "cell_type": "code",
   "execution_count": null,
   "id": "c2f7c3f5",
   "metadata": {},
   "outputs": [],
   "source": [
    "df.info()"
   ]
  },
  {
   "cell_type": "code",
   "execution_count": null,
   "id": "2eacc6e9",
   "metadata": {},
   "outputs": [],
   "source": [
    "#Converting Quantity and Sales column to Integer type\n",
    "\n",
    "df['Quantity'] = df['Quantity'].astype(int)\n",
    "df['Sales'] = df['Sales'].astype(int)\n",
    "print(df.dtypes)"
   ]
  },
  {
   "cell_type": "code",
   "execution_count": null,
   "id": "0b9c96bb",
   "metadata": {},
   "outputs": [],
   "source": [
    "# Converting the 'Month' column to numeric format\n",
    "df['Month'] = pd.to_datetime(df['Month'], format='%B').dt.month"
   ]
  },
  {
   "cell_type": "code",
   "execution_count": null,
   "id": "22074449",
   "metadata": {},
   "outputs": [],
   "source": [
    "print(sorted(df['Month'].unique()))"
   ]
  },
  {
   "cell_type": "code",
   "execution_count": null,
   "id": "ecaa76ea",
   "metadata": {},
   "outputs": [],
   "source": [
    "#Creating an object cursor to execute sql queries\n",
    "cursor = conn.cursor()"
   ]
  },
  {
   "cell_type": "code",
   "execution_count": null,
   "id": "ba6fefac",
   "metadata": {},
   "outputs": [],
   "source": [
    "#CHECKING FOR DUPLICATES IN INDEX\n",
    "rowz= cursor.execute(\"SELECT* FROM ABCData GROUP BY ID HAVING COUNT(*) > 1\").fetchall()\n",
    "print(rowz)"
   ]
  },
  {
   "cell_type": "code",
   "execution_count": null,
   "id": "16a95ccb",
   "metadata": {},
   "outputs": [],
   "source": [
    "#Now we want to confirm there are no duplicate rows in data\\n\",\n",
    "df_removed = df.copy()"
   ]
  },
  {
   "cell_type": "code",
   "execution_count": null,
   "id": "0ecab64f",
   "metadata": {},
   "outputs": [],
   "source": [
    " df_removed.drop(columns=[\"ID\"])"
   ]
  },
  {
   "cell_type": "code",
   "execution_count": null,
   "id": "73bb7aeb",
   "metadata": {},
   "outputs": [],
   "source": [
    "# Check for duplicate rows\n",
    "duplicates = df_removed.duplicated()\n",
    "\n",
    "# Print the number of duplicate rows\n",
    "print(f\"Number of duplicate rows: {duplicates.sum()}\")\n",
    "\n",
    "# If there are duplicates, show them\n",
    "if duplicates.any():\n",
    "    print(\"Duplicate rows:\")\n",
    "    print(df_removed[duplicates])\n",
    "else:\n",
    "    print(\"No duplicate rows found.\")\n"
   ]
  },
  {
   "cell_type": "code",
   "execution_count": null,
   "id": "5b2782e2",
   "metadata": {},
   "outputs": [],
   "source": [
    "%load_ext nb_black\n",
    "# Checking for negative sales amounts\\n\",\n",
    "invalid_sales = df[df[\"Sales\"] < 0]\n",
    "if not invalid_sales.empty:\n",
    "    raise ValueError(\"Invalid sales amounts found.\")"
   ]
  },
  {
   "cell_type": "code",
   "execution_count": null,
   "id": "2aafdee1",
   "metadata": {},
   "outputs": [],
   "source": [
    "# Checking how many rows have negative values in the Quantity or Sales column\\n\",\n",
    "rowz = cursor.execute(\n",
    "    \"SELECT COUNT(*) AS NegativeCount FROM ABCData WHERE Quantity < 0 OR Sales < 0\"\n",
    ").fetchall()\n",
    "print(rowz)"
   ]
  },
  {
   "cell_type": "code",
   "execution_count": null,
   "id": "3d613236",
   "metadata": {},
   "outputs": [],
   "source": [
    "# Replacing negative values with their absolute values\n",
    "df[\"Quantity\"] = df[\"Quantity\"].abs()\n",
    "df[\"Sales\"] = df[\"Sales\"].abs()\n",
    "print(df[df[\"Quantity\"] < 0])"
   ]
  },
  {
   "cell_type": "code",
   "execution_count": null,
   "id": "1f86dfe1",
   "metadata": {},
   "outputs": [],
   "source": [
    "rowz = cursor.execute(\n",
    "    \"SELECT COUNT(*) AS NegativeCount FROM ABCData WHERE Quantity = 0 OR Sales = 0\"\n",
    ").fetchall()\n",
    "print(rowz)"
   ]
  },
  {
   "cell_type": "code",
   "execution_count": null,
   "id": "680efc43",
   "metadata": {},
   "outputs": [],
   "source": [
    "# Remove rows where 'Quantity' or 'Sales' have zero values\n",
    "df = df[(df['Quantity'] != 0) & (df['Sales'] != 0)]\n",
    "\n",
    "# Verify the changes\n",
    "print(f\"Number of rows after removal: {len(df)}\")\n"
   ]
  },
  {
   "cell_type": "code",
   "execution_count": null,
   "id": "4ed19b26",
   "metadata": {},
   "outputs": [],
   "source": [
    "import geopandas as gpd\n",
    "from shapely.geometry import Point"
   ]
  },
  {
   "cell_type": "code",
   "execution_count": null,
   "id": "ec21d4eb",
   "metadata": {},
   "outputs": [],
   "source": [
    "# Creating a geopandas Dataframe\n",
    "geometry = [Point(xy) for xy in zip(df[\"Longitude\"], df[\"Latitude\"])]\n",
    "gdf = gpd.GeoDataFrame(df, geometry=geometry)"
   ]
  },
  {
   "cell_type": "code",
   "execution_count": null,
   "id": "98bae896",
   "metadata": {},
   "outputs": [],
   "source": [
    "gdf.head(3)"
   ]
  },
  {
   "cell_type": "code",
   "execution_count": null,
   "id": "cdb265a0",
   "metadata": {},
   "outputs": [],
   "source": [
    "# Visualizing a plot of the geopandas dataframe\n",
    "fig, ax = plt.subplots(1, figsize=(6, 12))\n",
    "gdf.plot(ax=ax, column=\"Country\", legend=True, legend_kwds={\"loc\": \"center left\"})\n",
    "leg = ax.get_legend()\n",
    "leg.set_bbox_to_anchor((1.04, 0.5))"
   ]
  },
  {
   "cell_type": "markdown",
   "id": "9d2e01a1",
   "metadata": {},
   "source": [
    "* From this plot, we can see more concentration of sales from Germany \n"
   ]
  },
  {
   "cell_type": "code",
   "execution_count": null,
   "id": "14a9d86c",
   "metadata": {},
   "outputs": [],
   "source": [
    "import plotly.express as px\n",
    "\n",
    "# let us plot a scatter plot showing Sales at various locations using longitude and latitude\n",
    "fig = px.scatter(\n",
    "    gdf,\n",
    "    x=\"Longitude\",\n",
    "    y=\"Latitude\",\n",
    "    color=\"Sales\",\n",
    "    hover_name=\"City\",\n",
    "    title=\"Scatter Plot of Locations by Latitude and Longitude\",\n",
    ")\n",
    "\n",
    "# Adjust plot size\n",
    "fig.update_layout(\n",
    "    width=800, height=600  # Set the width of the plot  # Set the height of the plot\n",
    ")\n",
    "fig.show()"
   ]
  },
  {
   "cell_type": "code",
   "execution_count": null,
   "id": "29ae7d9c",
   "metadata": {},
   "outputs": [],
   "source": [
    "print(df[df[\"Sales\"] < 0])"
   ]
  },
  {
   "cell_type": "code",
   "execution_count": null,
   "id": "4c7b148e",
   "metadata": {},
   "outputs": [],
   "source": [
    "# Calculate IQR bounds\n",
    "Q1 = df[\"Quantity\"].quantile(0.25)  # First quartile (25th percentile)\n",
    "Q3 = df[\"Quantity\"].quantile(0.75)  # Third quartile (75th percentile)\n",
    "IQR = Q3 - Q1  # Interquartile range\n",
    "\n",
    "# Define lower and upper bounds\n",
    "lower_bound = Q1 - 1.5 * IQR\n",
    "upper_bound = Q3 + 1.5 * IQR\n",
    "\n",
    "# Filtering out outliers\n",
    "df_out = df[(df[\"Quantity\"] >= lower_bound) & (df[\"Quantity\"] <= upper_bound)]"
   ]
  },
  {
   "cell_type": "code",
   "execution_count": null,
   "id": "c7f59533",
   "metadata": {},
   "outputs": [],
   "source": [
    "# Creating a geopandas Dataframe after removing outliers\n",
    "geometry = [Point(xy) for xy in zip(df_out[\"Longitude\"], df_out[\"Latitude\"])]\n",
    "gdf_out = gpd.GeoDataFrame(df_out, geometry=geometry)"
   ]
  },
  {
   "cell_type": "markdown",
   "id": "2b2e1151",
   "metadata": {},
   "source": [
    "### Hypothesis Testing and Statistical Analysis"
   ]
  },
  {
   "cell_type": "markdown",
   "id": "ab6eceaf",
   "metadata": {},
   "source": [
    "Hypothesis 1: Higher product prices correlate with lower sales quantities"
   ]
  },
  {
   "cell_type": "code",
   "execution_count": null,
   "id": "7f6a0769",
   "metadata": {},
   "outputs": [],
   "source": [
    "# Let us see how product price affects sales quantity\n",
    "# Checking for missing values in 'ProductPric' and 'OrderQuantity' columns\n",
    "print(df[[\"Price\", \"Quantity\"]].isnull().sum())"
   ]
  },
  {
   "cell_type": "code",
   "execution_count": null,
   "id": "7c2872f8",
   "metadata": {},
   "outputs": [],
   "source": [
    "# Let us group the data by product and calculate the sum of order quantities\n",
    "df_group = (\n",
    "    df.groupby(\"ProductClass\").agg({\"Quantity\": \"sum\", \"Price\": \"mean\"}).reset_index()\n",
    ")\n",
    "\n",
    "print(df_group.head())"
   ]
  },
  {
   "cell_type": "code",
   "execution_count": null,
   "id": "b07aa6a2",
   "metadata": {},
   "outputs": [],
   "source": [
    "# Calculate the Pearson correlation between ProductPrice and total OrderQuantity\n",
    "correlation = df[\"Price\"].corr(df[\"Quantity\"])\n",
    "print(f\"Correlation between Product Price and Total Sales Quantity: {correlation}\")"
   ]
  },
  {
   "cell_type": "code",
   "execution_count": null,
   "id": "ce44b6c9",
   "metadata": {},
   "outputs": [],
   "source": [
    "# Let us Calculate the Pearson correlation between the aggregated ProductPrice and total OrderQuantity\n",
    "correlation = df_group['Price'].corr(df_group['Quantity'])\n",
    "print(f'Correlation between Product Price and Total Sales Quantity: {correlation}')\n"
   ]
  },
  {
   "cell_type": "code",
   "execution_count": null,
   "id": "8a4852ae",
   "metadata": {},
   "outputs": [],
   "source": [
    "from scipy.stats import pearsonr\n",
    "\n",
    "# Calculate Pearson correlation\n",
    "pearson_corr, p_value = pearsonr(df[\"Price\"], df[\"Quantity\"])\n",
    "\n",
    "# Output results\n",
    "print(f\"Pearson Correlation: {pearson_corr}\")\n",
    "print(f\"P-value: {p_value}\")"
   ]
  },
  {
   "cell_type": "markdown",
   "id": "7a585974",
   "metadata": {},
   "source": [
    "*The Pearson Correlation Coefficient (-0.00058) is very close to 0, indicating that there's no linear relationship between Price and Quantity in the data.\n",
    "The negative value suggests a slight impression of an inverse relationship, but it's so close to zero that it's essentially negligible.                                                              \n",
    "*The P-value (0.7713) is much greater than the common significance threshold of 0.05, indicating that the correlation is not statistically significant.                  \n",
    "*This means there's no evidence indicating a linear relationship between the Price and Sales quantity                            \n",
    "*Overall, this result tells us that changes in price does not predict change in sales quantity and vice versa"
   ]
  },
  {
   "cell_type": "code",
   "execution_count": null,
   "id": "9d374426",
   "metadata": {},
   "outputs": [],
   "source": [
    "# Visualizing correlation with linear regression\n",
    "# Plotting a Scatter plot with regression line\n",
    "plt.figure(figsize=(10, 6))\n",
    "sns.regplot(\n",
    "    x=\"Price\", y=\"Quantity\", data=df, scatter_kws={\"s\": 10}, line_kws={\"color\": \"red\"},\n",
    ")\n",
    "plt.title(\"Regression Analysis of Product Price and Sales Quantity\")\n",
    "plt.xlabel(\"Product Price\")\n",
    "plt.ylabel(\"Sales Quantity\")\n",
    "plt.grid(True)\n",
    "plt.show()"
   ]
  },
  {
   "cell_type": "markdown",
   "id": "ef171c86",
   "metadata": {},
   "source": [
    "*The majority of the points are concentrated near the bottom of the plot between 0 and 20,000 sales quantity, indicating that most products have a low sales quantity regardless of their price.                          \n",
    "*There are several data points with very high sales quantities, suggesting that some products are sold in exceptionally high volumes.                                                                   \n",
    "*These high quantities appear across a range of prices but do not indicate a any particular pattern of correlation.\n",
    "*The red regression line is nearly flat, reinforcing the earlier result of a weak or no linear relationship between price and quantity.                                                                        \n",
    "*All in all, Product price does not seem to significantly influence sales quantity in the data, as no strong trend is observable.              "
   ]
  },
  {
   "cell_type": "code",
   "execution_count": null,
   "id": "4bd24f02",
   "metadata": {},
   "outputs": [],
   "source": [
    "# Visualizing correlation with linear regression\n",
    "# Plotting a Scatter plot with regression line\n",
    "plt.figure(figsize=(10, 6))\n",
    "sns.regplot(\n",
    "    x=\"Price\",\n",
    "    y=\"Quantity\",\n",
    "    data=df_out,\n",
    "    scatter_kws={\"s\": 10},\n",
    "    line_kws={\"color\": \"red\"},\n",
    ")\n",
    "plt.title(\"Regression Analysis of Product Price and Sales Quantity\")\n",
    "plt.xlabel(\"Product Price\")\n",
    "plt.ylabel(\"Sales Quantity\")\n",
    "plt.grid(True)\n",
    "plt.show()"
   ]
  },
  {
   "cell_type": "markdown",
   "id": "2f7caa25",
   "metadata": {},
   "source": [
    "*There's an absence of a clear upward or downward trend in the plot suggesting that changes in product price do not consistently correlate with variations in sales quantity. Other factors, such as product type, customer preference, or customer channel, might be better responsible for changes in sales quantity"
   ]
  },
  {
   "cell_type": "markdown",
   "id": "db1bf886",
   "metadata": {},
   "source": [
    "### Hypothesis 2; Sales performance varies significantly across customer channels"
   ]
  },
  {
   "cell_type": "code",
   "execution_count": null,
   "id": "efec4cea",
   "metadata": {},
   "outputs": [],
   "source": [
    "#Performing ANOVA tests to determine sales performance across customer channel using the variables \"Quantity\" and \"Sales\" \n",
    "\n",
    "from scipy import stats\n",
    "# Performing a one-way ANOVA test for total sales quantities across channels\n",
    "anova_quantity = stats.f_oneway(*[group['Quantity'].values \n",
    "                                         for name, group in df.groupby('Channel')])\n",
    "\n",
    "# Performing a one-way ANOVA test for sales across channels\n",
    "anova_sales = stats.f_oneway(*[group['Sales'].values \n",
    "                                        for name, group in df.groupby('Channel')])\n",
    "\n",
    "# Print results\n",
    "print(f\"ANOVA Result for Quantity: F-statistic = {anova_quantity.statistic}, p-value = {anova_quantity.pvalue}\")\n",
    "print(f\"ANOVA Result for Sales: F-statistic = {anova_sales.statistic}, p-value = {anova_sales.pvalue}\")\n"
   ]
  },
  {
   "cell_type": "markdown",
   "id": "5b9d300c",
   "metadata": {},
   "source": [
    "*For Quantity, The p-value (0.053) is slightly above the conventional threshold of 0.05.\n",
    "This suggests there is weak evidence to conclude that the mean sales quantities differ significantly across the different customer channels.\n",
    "In other words, the difference in sales quantities among the channels is not statistically significant at the 95% confidence level, but it is borderline.\n",
    "*While for Sales, The p-value (0.033) is below 0.05, indicating that the differences in mean sales (revenue) across customer channels are statistically significant at the 95% confidence level.\n",
    "This means that one customer channel's sales performance is significantly different from the other"
   ]
  },
  {
   "cell_type": "markdown",
   "id": "4b392a54",
   "metadata": {},
   "source": [
    "### Hypothesis 3: Sales are higher in Urban areas compared to rural areas due to population density and healthcare infrastructure"
   ]
  },
  {
   "cell_type": "code",
   "execution_count": null,
   "id": "af22837f",
   "metadata": {},
   "outputs": [],
   "source": [
    "# Here's a list of areas in the data\n",
    "df[\"City\"].unique()"
   ]
  },
  {
   "cell_type": "code",
   "execution_count": null,
   "id": "bd678c72",
   "metadata": {},
   "outputs": [],
   "source": [
    "#Here's a list of the urban cities in the data set according to the Statistics offices of Germany and Poland\n",
    "Kraków\n",
    "Warsaw\n",
    "Gdańsk\n",
    "Łódź\n",
    "Wrocław\n",
    "Poznań\n",
    "Katowice\n",
    "Rzeszów\n",
    "Szczecin\n",
    "Gdynia\n",
    "Olsztyn\n",
    "Radom\n",
    "Tarnów\n",
    "Częstochowa\n",
    "Zabrze\n",
    "Bytom\n",
    "Gliwice\n",
    "Elbląg\n",
    "Toruń\n",
    "Opole\n",
    "Koszalin\n",
    "\n",
    "\n",
    "Berlin\n",
    "Munich (München)\n",
    "Hamburg\n",
    "Cologne (Köln)\n",
    "Frankfurt\n",
    "Stuttgart\n",
    "Dortmund\n",
    "Dresden\n",
    "Leipzig\n",
    "Bremen\n",
    "Heidelberg\n",
    "Osnabrück\n",
    "Potsdam\n",
    "Augsburg\n",
    "Bonn\n",
    "Lübeck\n",
    "Karlsruhe\n",
    "Kassel\n",
    "Mannheim\n",
    "Regensburg\n"
   ]
  },
  {
   "cell_type": "code",
   "execution_count": null,
   "id": "e170c9ba",
   "metadata": {},
   "outputs": [],
   "source": [
    "# List of major urban cities in Germany and Poland\n",
    "urban_cities = [\n",
    "    \"Berlin\", \"Hamburg\", \"Munich\", \"Cologne\", \"Frankfurt\", \n",
    "    \"Stuttgart\", \"Dortmund\", \"Leipzig\", \n",
    "    \"Bremen\", \"Dresden\", \"Heidelberg\", \"Osnabrück\", \"Potsdam\",\n",
    "    \"Augsburg\", \"Bonn\", \"Lübeck\",\n",
    "    \"Karlsruhe\", \"Kassel\", \"Mannheim\", \"Regensburg\",\n",
    "    \"Warsaw\", \"Kraków\", \"Łódź\", \"Wrocław\", \"Poznań\", \n",
    "    \"Gdańsk\", \"Szczecin\", \"Katowice\", \"Gdynia\",\n",
    "    \"Częstochowa\", \"Radom\", \"Rzeszów\",\n",
    "    \"Olsztyn\", \"Tarnów\", \"Zabrze\", \"Bytom\", \"Gliwice\", \n",
    "    \"Elbląg\", \"Toruń\", \"Opole\", \"Koszalin\"\n",
    "]\n",
    "\n",
    "# Classify each city as Urban or Rural\n",
    "gdf['Urban_Rural'] = gdf['City'].apply(\n",
    "    lambda city: 'Urban' if city in urban_cities else 'Rural'\n",
    ")\n",
    "\n",
    "\n"
   ]
  },
  {
   "cell_type": "code",
   "execution_count": null,
   "id": "89967d6c",
   "metadata": {},
   "outputs": [],
   "source": [
    "print(gdf['Urban_Rural'].unique())\n"
   ]
  },
  {
   "cell_type": "code",
   "execution_count": null,
   "id": "7c7e288e",
   "metadata": {},
   "outputs": [],
   "source": [
    "gdf.head(2)"
   ]
  },
  {
   "cell_type": "code",
   "execution_count": null,
   "id": "789c71d8",
   "metadata": {},
   "outputs": [],
   "source": [
    "gdf.to_csv(r\"C:\\Users\\user\\Desktop\\3Signet Project2 Task\\file3.csv\")"
   ]
  },
  {
   "cell_type": "markdown",
   "id": "7918ae4e",
   "metadata": {},
   "source": [
    "#### Determining whether sales differ significantly between urban areas (where population density is higher with better healthcare infrastructure) and rural areas"
   ]
  },
  {
   "cell_type": "code",
   "execution_count": null,
   "id": "c99cb2ed",
   "metadata": {},
   "outputs": [],
   "source": [
    "#Performing a T-test to significant sales difference between urban and rural areas\n",
    "from scipy.stats import ttest_ind\n",
    "\n",
    "# Let us separate data into urban and rural groups\n",
    "urban_sales = gdf[gdf['Urban_Rural'] == 'Urban']['Sales']\n",
    "rural_sales = gdf[gdf['Urban_Rural'] == 'Rural']['Sales']\n",
    "\n",
    "# Perform t-test\n",
    "t_stat, p_value = ttest_ind(urban_sales, rural_sales, equal_var=False)\n",
    "print(f\"T-Statistic: {t_stat}, P-Value: {p_value}\")\n",
    "\n"
   ]
  },
  {
   "cell_type": "code",
   "execution_count": null,
   "id": "ce9512b8",
   "metadata": {},
   "outputs": [],
   "source": [
    "# Interpret results\n",
    "if p_value < 0.05:\n",
    "    print(\"Significant difference in sales between urban and rural areas.\")\n",
    "else:\n",
    "    print(\"No significant difference in sales between urban and rural areas.\")\n"
   ]
  },
  {
   "cell_type": "code",
   "execution_count": null,
   "id": "81f92a2f",
   "metadata": {},
   "outputs": [],
   "source": [
    "import seaborn as sns\n",
    "sns.boxplot(data=gdf, x=\"Urban_Rural\", y=\"Sales\")\n",
    "plt.title(\"Sales Distribution: Urban vs Rural\")\n",
    "plt.show()\n"
   ]
  },
  {
   "cell_type": "markdown",
   "id": "9be13b59",
   "metadata": {},
   "source": [
    "*The negative T-statistic indicates that, on average, the sales in urban areas are lower than in the rural areas\n",
    "*The plot also shows same\n",
    "*The p-value of 0.0034 indicates that the difference between the sales in urban and rural areas is statistically significant, meaning there's a significant difference between sales in urban areas and those in rural areas\n",
    "*As the p-value is much less than 0.005, we can reject the hypothesis 3"
   ]
  },
  {
   "cell_type": "markdown",
   "id": "18510006",
   "metadata": {},
   "source": [
    "## INSIGHTS AND RECOMMENDATIONS"
   ]
  },
  {
   "cell_type": "markdown",
   "id": "bfabce0a",
   "metadata": {},
   "source": [
    "*Pricing strategies might not be directly influencing sales volume in the business, or other factors (such as demand, marketing efforts, distribution channels, etc.) could be playing a more significant role.\n",
    "\n",
    "*The business should consider focusing on factors other than price to drive sales, such as enhancing marketing campaigns, exploring customer preferences, and improving distribution channels especially in urban areas\n",
    "\n",
    "*Business should also consider other strategies to increase sales, such as bundling products, offering discounts for bulk purchases and improve customer education on products\n",
    "\n",
    "*The pharmacy channel is doing significantly better than the hospital channel\n",
    "\n",
    "*Business should consider conducting channel-specific analysis to identify the most profitable customer segments and tailor marketing efforts accordingly.\n",
    "\n",
    "*Business can focus on optimizing pharmacy channel to maximize sales while exploring strategies to improve the weaker channel.\n",
    "\n",
    "*The urban areas, despite typically being the high-potential market due to population density, are not performing as well in terms of sales volume compared to rural areas. This could be due to a variety of factors, including market saturation, high competition, or logistical challenges.\n",
    "\n",
    "*Business can reevaluate the pricing strategy and marketing efforts in urban areas. Urban areas may be oversaturated with competition, and therefore, targeting different value propositions or adjusting pricing strategies could help.\n",
    "\n",
    "*Business should consider targeted promotions or loyalty programs and marketing campaign to boost sales in urban areas.\n"
   ]
  },
  {
   "cell_type": "code",
   "execution_count": null,
   "id": "2c4eff61",
   "metadata": {},
   "outputs": [],
   "source": []
  },
  {
   "cell_type": "code",
   "execution_count": null,
   "id": "a3ec0644",
   "metadata": {},
   "outputs": [],
   "source": []
  }
 ],
 "metadata": {
  "kernelspec": {
   "display_name": "Python 3 (ipykernel)",
   "language": "python",
   "name": "python3"
  },
  "language_info": {
   "codemirror_mode": {
    "name": "ipython",
    "version": 3
   },
   "file_extension": ".py",
   "mimetype": "text/x-python",
   "name": "python",
   "nbconvert_exporter": "python",
   "pygments_lexer": "ipython3",
   "version": "3.8.8"
  }
 },
 "nbformat": 4,
 "nbformat_minor": 5
}
